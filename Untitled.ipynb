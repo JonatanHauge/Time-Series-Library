{
 "cells": [
  {
   "cell_type": "code",
   "execution_count": null,
   "id": "92dc40ea",
   "metadata": {},
   "outputs": [],
   "source": []
  },
  {
   "cell_type": "code",
   "execution_count": 12,
   "id": "e3179ad1",
   "metadata": {},
   "outputs": [],
   "source": [
    "import sys\n",
    "# caution: path[0] is reserved for script path (or '' in REPL)\n",
    "sys.path.insert(1, r\"C:\\Users\\johau\\Desktop\\Weel & Sandvig\\ML\\Time-Series-Library\")\n",
    "\n",
    "from models import TimesNet"
   ]
  },
  {
   "cell_type": "code",
   "execution_count": 31,
   "id": "2826af12",
   "metadata": {},
   "outputs": [
    {
     "name": "stderr",
     "output_type": "stream",
     "text": [
      "Den angivne fil blev ikke fundet.\n",
      "Den angivne sti blev ikke fundet.\n"
     ]
    }
   ],
   "source": [
    "model_name=TimesNet\n",
    "root = r\"C:\\Users\\johau\\Desktop\\Weel & Sandvig\\ML\\Time-Series-Library\\dataset\\m4\"\n",
    "\n",
    "!python -u run.py \\\n",
    "  --task_name short_term_forecast \\\n",
    "  --is_training 1 \\\n",
    "  --root_path ./dataset/m4 \\\n",
    "  --seasonal_patterns Monthly \\\n",
    "  --model_id m4_Monthly \\\n",
    "  --model $model_name \\\n",
    "  --data m4 \\\n",
    "  --features M \\\n",
    "  --e_layers 2 \\\n",
    "  --d_layers 1 \\\n",
    "  --factor 3 \\\n",
    "  --enc_in 1 \\\n",
    "  --dec_in 1 \\\n",
    "  --c_out 1 \\\n",
    "  --batch_size 16 \\\n",
    "  --d_model 32 \\\n",
    "  --d_ff 32 \\\n",
    "  --top_k 5 \\\n",
    "  --des 'Exp' \\\n",
    "  --itr 1 \\\n",
    "  --learning_rate 0.001 \\\n",
    "  --loss 'SMAPE'"
   ]
  },
  {
   "cell_type": "code",
   "execution_count": null,
   "id": "afbc95e1",
   "metadata": {},
   "outputs": [],
   "source": []
  },
  {
   "cell_type": "code",
   "execution_count": null,
   "id": "8758da51",
   "metadata": {},
   "outputs": [],
   "source": []
  },
  {
   "cell_type": "code",
   "execution_count": null,
   "id": "b21cf1f2",
   "metadata": {},
   "outputs": [],
   "source": []
  }
 ],
 "metadata": {
  "kernelspec": {
   "display_name": "Python 3 (ipykernel)",
   "language": "python",
   "name": "python3"
  },
  "language_info": {
   "codemirror_mode": {
    "name": "ipython",
    "version": 3
   },
   "file_extension": ".py",
   "mimetype": "text/x-python",
   "name": "python",
   "nbconvert_exporter": "python",
   "pygments_lexer": "ipython3",
   "version": "3.10.0"
  }
 },
 "nbformat": 4,
 "nbformat_minor": 5
}
